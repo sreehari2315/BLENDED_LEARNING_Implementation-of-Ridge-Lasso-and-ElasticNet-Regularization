{
 "cells": [
  {
   "cell_type": "code",
   "execution_count": 2,
   "id": "c720f937",
   "metadata": {},
   "outputs": [],
   "source": [
    "# Importing necessary libraries\n",
    "import pandas as pd\n",
    "import numpy as np\n",
    "import matplotlib.pyplot as plt\n",
    "import seaborn as sns\n",
    "from sklearn.model_selection import train_test_split\n",
    "from sklearn.preprocessing import PolynomialFeatures, StandardScaler\n",
    "from sklearn.linear_model import Ridge, Lasso, ElasticNet\n",
    "from sklearn.pipeline import Pipeline\n",
    "from sklearn.metrics import mean_squared_error, r2_score"
   ]
  },
  {
   "cell_type": "code",
   "execution_count": 3,
   "id": "e0c8d28c",
   "metadata": {},
   "outputs": [
    {
     "name": "stdout",
     "output_type": "stream",
     "text": [
      "   diesel  gas  std  turbo  convertible  hardtop  hatchback  sedan  wagon  \\\n",
      "0     0.0  1.0  1.0    0.0          1.0      0.0        0.0    0.0    0.0   \n",
      "1     0.0  1.0  1.0    0.0          1.0      0.0        0.0    0.0    0.0   \n",
      "2     0.0  1.0  1.0    0.0          0.0      0.0        1.0    0.0    0.0   \n",
      "3     0.0  1.0  1.0    0.0          0.0      0.0        0.0    1.0    0.0   \n",
      "4     0.0  1.0  1.0    0.0          0.0      0.0        0.0    1.0    0.0   \n",
      "\n",
      "   4wd  ...  wheelbase  curbweight  enginesize  boreratio  horsepower  \\\n",
      "0  0.0  ...       88.6      2548.0       130.0       3.47       111.0   \n",
      "1  0.0  ...       88.6      2548.0       130.0       3.47       111.0   \n",
      "2  0.0  ...       94.5      2823.0       152.0       2.68       154.0   \n",
      "3  0.0  ...       99.8      2337.0       109.0       3.19       102.0   \n",
      "4  1.0  ...       99.4      2824.0       136.0       3.19       115.0   \n",
      "\n",
      "   carlength  carwidth  citympg  highwaympg    price  \n",
      "0      168.8      64.1     21.0        27.0  13495.0  \n",
      "1      168.8      64.1     21.0        27.0  16500.0  \n",
      "2      171.2      65.5     19.0        26.0  16500.0  \n",
      "3      176.6      66.2     24.0        30.0  13950.0  \n",
      "4      176.6      66.4     18.0        22.0  17450.0  \n",
      "\n",
      "[5 rows x 36 columns]\n"
     ]
    }
   ],
   "source": [
    "# Load the dataset\n",
    "data = pd.read_csv(\"encoded_car_data.csv\")\n",
    "print(data.head())"
   ]
  },
  {
   "cell_type": "code",
   "execution_count": 4,
   "id": "0f24748f",
   "metadata": {},
   "outputs": [],
   "source": [
    "# Data preprocessing\n",
    "#data = data.drop(['CarName', 'car_ID'], axis=1)\n",
    "data = pd.get_dummies(data, drop_first=True)"
   ]
  },
  {
   "cell_type": "code",
   "execution_count": 5,
   "id": "70601232",
   "metadata": {},
   "outputs": [],
   "source": [
    "# Splitting the data into features and target variable\n",
    "X = data.drop('price', axis=1)\n",
    "y = data['price']"
   ]
  },
  {
   "cell_type": "code",
   "execution_count": 6,
   "id": "3bc25ac8",
   "metadata": {},
   "outputs": [],
   "source": [
    "# Standardizing the features\n",
    "scaler = StandardScaler()\n",
    "X = scaler.fit_transform(X)\n",
    "y = scaler.fit_transform(y.values.reshape(-1, 1)).flatten()"
   ]
  },
  {
   "cell_type": "code",
   "execution_count": 7,
   "id": "41a668bf",
   "metadata": {},
   "outputs": [],
   "source": [
    "# Splitting the dataset into training and testing sets\n",
    "X_train, X_test, y_train, y_test = train_test_split(X, y, test_size=0.2, random_state=42)"
   ]
  },
  {
   "cell_type": "code",
   "execution_count": 8,
   "id": "7ef15509",
   "metadata": {},
   "outputs": [],
   "source": [
    "# Define the models\n",
    "models = {\n",
    "    \"Ridge\": Ridge(alpha=1.0),\n",
    "    \"Lasso\": Lasso(alpha=1.0),\n",
    "    \"ElasticNet\": ElasticNet(alpha=1.0, l1_ratio=0.5)\n",
    "}\n",
    "# Dictionary to store results\n",
    "results = {}"
   ]
  },
  {
   "cell_type": "code",
   "execution_count": 10,
   "id": "07dcb8f5",
   "metadata": {},
   "outputs": [],
   "source": [
    "# Train and evaluate each model\n",
    "for name, model in models.items():\n",
    "    # Create a pipeline with polynomial features and the model\n",
    "    pipeline = Pipeline([\n",
    "        ('poly', PolynomialFeatures(degree=2)),\n",
    "        ('regressor', model)\n",
    "    ])\n",
    "    # Fit the model\n",
    "    pipeline.fit(X_train, y_train)\n",
    "\n",
    "    # Make predictions\n",
    "    predictions = pipeline.predict(X_test)\n",
    "\n",
    "    # Calculate performance metrics\n",
    "    mse = mean_squared_error(y_test, predictions)\n",
    "    r2 = r2_score(y_test, predictions)\n",
    "\n",
    "    # Store results\n",
    "    results[name] = {'MSE': mse, 'R2 Score': r2}"
   ]
  },
  {
   "cell_type": "code",
   "execution_count": 11,
   "id": "381ea8c1",
   "metadata": {},
   "outputs": [
    {
     "name": "stdout",
     "output_type": "stream",
     "text": [
      "==================================================\n",
      "Ridge - Mean Squared Error: 0.26, R² Score: 0.79\n",
      "Lasso - Mean Squared Error: 0.94, R² Score: 0.25\n",
      "ElasticNet - Mean Squared Error: 0.63, R² Score: 0.49\n",
      "==================================================\n"
     ]
    }
   ],
   "source": [
    "# Print results\n",
    "print('=' * 50)\n",
    "for model_name, metrics in results.items():\n",
    "    print(f\"{model_name} - Mean Squared Error: {metrics['MSE']:.2f}, R² Score: {metrics['R2 Score']:.2f}\")\n",
    "print('=' * 50)"
   ]
  },
  {
   "cell_type": "code",
   "execution_count": 12,
   "id": "150ba570",
   "metadata": {},
   "outputs": [],
   "source": [
    "# Convert results to DataFrame for easier plotting\n",
    "results_df = pd.DataFrame(results).T.reset_index()\n",
    "results_df.rename(columns={'index': 'Model'}, inplace=True)"
   ]
  },
  {
   "cell_type": "code",
   "execution_count": 13,
   "id": "af251854",
   "metadata": {},
   "outputs": [
    {
     "data": {
      "text/plain": [
       "<Figure size 1200x500 with 0 Axes>"
      ]
     },
     "execution_count": 13,
     "metadata": {},
     "output_type": "execute_result"
    },
    {
     "data": {
      "text/plain": [
       "<Figure size 1200x500 with 0 Axes>"
      ]
     },
     "metadata": {},
     "output_type": "display_data"
    }
   ],
   "source": [
    "# Set the figure size and create subplots\n",
    "plt.figure(figsize=(12, 5))"
   ]
  },
  {
   "cell_type": "code",
   "execution_count": 16,
   "id": "5a20351d",
   "metadata": {},
   "outputs": [
    {
     "data": {
      "image/png": "[encoded data removed]",
      "text/plain": [
       "<Figure size 640x480 with 2 Axes>"
      ]
     },
     "metadata": {},
     "output_type": "display_data"
    }
   ],
   "source": [
    "# Bar plot for MSE\n",
    "plt.subplot(1, 2, 1)\n",
    "sns.barplot(x=\"Model\", y=\"MSE\", data=results_df, palette=\"viridis\")\n",
    "plt.title(\"Mean Squared Error (MSE)\")\n",
    "plt.ylabel(\"MSE\")\n",
    "plt.xticks(rotation=45)\n",
    "\n",
    "# Bar plot for R2 Score\n",
    "plt.subplot(1, 2, 2)\n",
    "sns.barplot(x=\"Model\", y=\"R2 Score\", data=results_df, palette=\"viridis\")\n",
    "plt.title(\"R² Score\")\n",
    "plt.ylabel(\"R² Score\")\n",
    "plt.xticks(rotation=45)\n",
    "\n",
    "# Show the plots\n",
    "plt.tight_layout()\n",
    "plt.show() "
   ]
  },
  {
   "cell_type": "code",
   "execution_count": null,
   "id": "e0626be0",
   "metadata": {},
   "outputs": [],
   "source": []
  }
 ],
 "metadata": {
  "kernelspec": {
   "display_name": "Python 3 (ipykernel)",
   "language": "python",
   "name": "python3"
  },
  "language_info": {
   "codemirror_mode": {
    "name": "ipython",
    "version": 3
   },
   "file_extension": ".py",
   "mimetype": "text/x-python",
   "name": "python",
   "nbconvert_exporter": "python",
   "pygments_lexer": "ipython3",
   "version": "3.11.3"
  }
 },
 "nbformat": 4,
 "nbformat_minor": 5
}
